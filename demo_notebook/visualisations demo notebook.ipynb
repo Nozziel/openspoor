{
 "cells": [
  {
   "cell_type": "code",
   "execution_count": null,
   "metadata": {},
   "outputs": [],
   "source": [
    "%load_ext autoreload\n",
    "%autoreload 2"
   ]
  },
  {
   "cell_type": "code",
   "execution_count": null,
   "metadata": {},
   "outputs": [],
   "source": [
    "# we need folium for the notebook\n",
    "!pip install folium==0.12.1"
   ]
  },
  {
   "cell_type": "code",
   "execution_count": null,
   "metadata": {},
   "outputs": [],
   "source": [
    "from openspoor.visualisations.spoorkaart import SpoorKaart,PlottingDataFrame"
   ]
  },
  {
   "cell_type": "markdown",
   "metadata": {},
   "source": [
    "# Set up spoorkaart and add points to plot\n",
    "\n",
    "\n",
    "Making a map consists of setting up a SpoorKaart object and adding the objects you wish to plot to it. These objects can be given in Pandas DataFrames, which are displayed on a map with added aerial photographs of the Dutch tracks and zoomed to the location of interest.\n",
    "Optionally, these outputs can be saved as .html files which can then be shared or used in applications.\n",
    "Within notebooks, Spoorkaart objects are displayed if their value is requested at the end of a cell."
   ]
  },
  {
   "cell_type": "code",
   "execution_count": null,
   "metadata": {},
   "outputs": [],
   "source": [
    "with SpoorKaart() as m:\n",
    "    PlottingDataFrame({'lat': [52.08, 52.093],\n",
    "                       'lng': [5.119, 5.107],\n",
    "                       'value': [1, 2],\n",
    "                       \"marker\": ['train', \"eye\"]},\n",
    "                      colors={'value': {(0, 1.5): 'blue', (1.5, 3.0): 'orange'}},\n",
    "                      marker_column=\"marker\").add_to(m)\n",
    "    PlottingDataFrame({'lat': [52.0874117], 'lng': [5.1156098], \"rotation\": [245], 'location': ['ProRail Entrance']},\n",
    "                      colors='purple',\n",
    "                      popup=['location'],\n",
    "                      rotation_column=\"rotation\").add_to(m)\n",
    "    PlottingDataFrame({'lat': [52.086420], 'lng': [5.113101], 'radius': [10], 'object': ['switch']},\n",
    "                      popup=['object'],\n",
    "                      markertype='circle',\n",
    "                      radius_column=\"radius\").add_to(m)\n",
    "m"
   ]
  }
 ],
 "metadata": {
  "kernelspec": {
   "display_name": "Python 3",
   "language": "python",
   "name": "python3"
  },
  "language_info": {
   "codemirror_mode": {
    "name": "ipython",
    "version": 3
   },
   "file_extension": ".py",
   "mimetype": "text/x-python",
   "name": "python",
   "nbconvert_exporter": "python",
   "pygments_lexer": "ipython3",
   "version": "3.6.12"
  }
 },
 "nbformat": 4,
 "nbformat_minor": 4
}
